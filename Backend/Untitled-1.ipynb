{
 "cells": [
  {
   "cell_type": "code",
   "execution_count": 2,
   "metadata": {},
   "outputs": [
    {
     "ename": "KeyError",
     "evalue": "'API_KEY'",
     "output_type": "error",
     "traceback": [
      "\u001b[0;31m---------------------------------------------------------------------------\u001b[0m",
      "\u001b[0;31mKeyError\u001b[0m                                  Traceback (most recent call last)",
      "Cell \u001b[0;32mIn[2], line 22\u001b[0m\n\u001b[1;32m     14\u001b[0m situations \u001b[38;5;241m=\u001b[39m {\n\u001b[1;32m     15\u001b[0m     \u001b[38;5;124m\"\u001b[39m\u001b[38;5;124mPirate\u001b[39m\u001b[38;5;124m\"\u001b[39m: [\u001b[38;5;124m\"\u001b[39m\u001b[38;5;124mKraken attack\u001b[39m\u001b[38;5;124m\"\u001b[39m, \u001b[38;5;124m\"\u001b[39m\u001b[38;5;124mEnemy ship attack\u001b[39m\u001b[38;5;124m\"\u001b[39m, \u001b[38;5;124m\"\u001b[39m\u001b[38;5;124mStorm\u001b[39m\u001b[38;5;124m\"\u001b[39m, \u001b[38;5;124m\"\u001b[39m\u001b[38;5;124mTreasure hunt\u001b[39m\u001b[38;5;124m\"\u001b[39m],\n\u001b[1;32m     16\u001b[0m     \u001b[38;5;124m\"\u001b[39m\u001b[38;5;124mMedieval\u001b[39m\u001b[38;5;124m\"\u001b[39m: [\u001b[38;5;124m\"\u001b[39m\u001b[38;5;124mDragon attack\u001b[39m\u001b[38;5;124m\"\u001b[39m, \u001b[38;5;124m\"\u001b[39m\u001b[38;5;124mCastle siege\u001b[39m\u001b[38;5;124m\"\u001b[39m, \u001b[38;5;124m\"\u001b[39m\u001b[38;5;124mBandit ambush\u001b[39m\u001b[38;5;124m\"\u001b[39m, \u001b[38;5;124m\"\u001b[39m\u001b[38;5;124mQuest for a relic\u001b[39m\u001b[38;5;124m\"\u001b[39m],\n\u001b[1;32m     17\u001b[0m     \u001b[38;5;124m\"\u001b[39m\u001b[38;5;124mSci-Fi\u001b[39m\u001b[38;5;124m\"\u001b[39m: [\u001b[38;5;124m\"\u001b[39m\u001b[38;5;124mAlien invasion\u001b[39m\u001b[38;5;124m\"\u001b[39m, \u001b[38;5;124m\"\u001b[39m\u001b[38;5;124mSpaceship malfunction\u001b[39m\u001b[38;5;124m\"\u001b[39m, \u001b[38;5;124m\"\u001b[39m\u001b[38;5;124mAsteroid collision\u001b[39m\u001b[38;5;124m\"\u001b[39m, \u001b[38;5;124m\"\u001b[39m\u001b[38;5;124mSearch for a new planet\u001b[39m\u001b[38;5;124m\"\u001b[39m],\n\u001b[1;32m     18\u001b[0m     \u001b[38;5;124m\"\u001b[39m\u001b[38;5;124mFantasy\u001b[39m\u001b[38;5;124m\"\u001b[39m: [\u001b[38;5;124m\"\u001b[39m\u001b[38;5;124mOrc raid\u001b[39m\u001b[38;5;124m\"\u001b[39m, \u001b[38;5;124m\"\u001b[39m\u001b[38;5;124mDark forest adventure\u001b[39m\u001b[38;5;124m\"\u001b[39m, \u001b[38;5;124m\"\u001b[39m\u001b[38;5;124mCursed artifact\u001b[39m\u001b[38;5;124m\"\u001b[39m, \u001b[38;5;124m\"\u001b[39m\u001b[38;5;124mRescue mission\u001b[39m\u001b[38;5;124m\"\u001b[39m]\n\u001b[1;32m     19\u001b[0m }\n\u001b[1;32m     21\u001b[0m \u001b[38;5;66;03m# Set up API key\u001b[39;00m\n\u001b[0;32m---> 22\u001b[0m genai\u001b[38;5;241m.\u001b[39mconfigure(api_key\u001b[38;5;241m=\u001b[39m\u001b[43mos\u001b[49m\u001b[38;5;241;43m.\u001b[39;49m\u001b[43menviron\u001b[49m\u001b[43m[\u001b[49m\u001b[38;5;124;43m\"\u001b[39;49m\u001b[38;5;124;43mAPI_KEY\u001b[39;49m\u001b[38;5;124;43m\"\u001b[39;49m\u001b[43m]\u001b[49m)\n\u001b[1;32m     24\u001b[0m model \u001b[38;5;241m=\u001b[39m genai\u001b[38;5;241m.\u001b[39mGenerativeModel(\u001b[38;5;124m'\u001b[39m\u001b[38;5;124mgemini-1.5-flash\u001b[39m\u001b[38;5;124m'\u001b[39m)\n\u001b[1;32m     26\u001b[0m \u001b[38;5;28;01mdef\u001b[39;00m \u001b[38;5;21mgenerate_scenario\u001b[39m(genre, num_players):\n",
      "File \u001b[0;32m<frozen os>:714\u001b[0m, in \u001b[0;36m__getitem__\u001b[0;34m(self, key)\u001b[0m\n",
      "\u001b[0;31mKeyError\u001b[0m: 'API_KEY'"
     ]
    }
   ],
   "source": [
    "import os\n",
    "import google.generativeai as genai\n",
    "\n",
    "# Set the API key directly in the notebook\n",
    "os.environ[\"API_KEY\"] = \"API_KEY\"\n",
    "\n",
    "# Configure the generative AI\n",
    "genai.configure(api_key=os.environ[\"API_KEY\"])\n",
    "\n",
    "model = genai.GenerativeModel('gemini-1.5-flash')\n",
    "\n",
    "# Your existing code\n",
    "import random\n",
    "\n",
    "# Define Genres, Roles, and Situations\n",
    "genres = [\"Pirate\", \"Medieval\", \"Sci-Fi\", \"Fantasy\"]\n",
    "roles = {\n",
    "    \"Pirate\": [\"Captain\", \"Navigator\", \"Cannoneer\", \"Swordman\"],\n",
    "    \"Medieval\": [\"Knight\", \"Archer\", \"Mage\", \"Healer\"],\n",
    "    \"Sci-Fi\": [\"Commander\", \"Pilot\", \"Engineer\", \"Soldier\"],\n",
    "    \"Fantasy\": [\"Warrior\", \"Ranger\", \"Sorcerer\", \"Bard\"]\n",
    "}\n",
    "\n",
    "situations = {\n",
    "    \"Pirate\": [\"Kraken attack\", \"Enemy ship attack\", \"Storm\", \"Treasure hunt\"],\n",
    "    \"Medieval\": [\"Dragon attack\", \"Castle siege\", \"Bandit ambush\", \"Quest for a relic\"],\n",
    "    \"Sci-Fi\": [\"Alien invasion\", \"Spaceship malfunction\", \"Asteroid collision\", \"Search for a new planet\"],\n",
    "    \"Fantasy\": [\"Orc raid\", \"Dark forest adventure\", \"Cursed artifact\", \"Rescue mission\"]\n",
    "}\n",
    "\n",
    "def generate_scenario(genre, num_players):\n",
    "    situation = random.choice(situations[genre])\n",
    "    player_roles = random.sample(roles[genre], num_players)\n",
    "    return situation, player_roles\n",
    "\n",
    "def generate_background_story(genre, situation, player_roles):\n",
    "    prompt = f\"Create a background story for a {genre.lower()} adventure. The situation is a {situation}. The roles are: {', '.join(player_roles)}. Narrate the scene as if you are a Dungeon Master, setting up the story for the players.\"\n",
    "    \n",
    "    response = model.generate_content(prompt)\n",
    "    return response.text\n",
    "\n",
    "def generate_final_story_and_song(genre, situation, player_roles, player_actions):\n",
    "    prompt = f\"In a {genre} adventure, a group of friends faced a {situation}. \"\n",
    "    for role, action in zip(player_roles, player_actions):\n",
    "        prompt += f\"The {role} decided to {action}. \"\n",
    "    prompt += \"Write an interesting story about their adventure, including who survived, who got injured, and if they gained anything. Also, create a song inspired by the story in an appropriate style. Respond in JSON format with fields 'story', 'song', and 'song_style'.\"\n",
    "    \n",
    "    response = model.generate_content(prompt)\n",
    "    return response.text\n",
    "\n",
    "# Example Usage\n",
    "genre = \"Pirate\"\n",
    "num_players = 4\n",
    "situation, player_roles = generate_scenario(genre, num_players)\n",
    "background_story = generate_background_story(genre, situation, player_roles)\n",
    "\n",
    "print(\"Dungeon Master:\", background_story)\n",
    "\n",
    "# Collect player actions\n",
    "player_actions = []\n",
    "for role in player_roles:\n",
    "    action = input(f\"What will the {role} do? \")\n",
    "    player_actions.append(action)\n",
    "\n",
    "print(\"Player Actions:\", player_actions)\n",
    "\n",
    "# Generate final output\n",
    "final_output = generate_final_story_and_song(genre, situation, player_roles, player_actions)\n",
    "print(\"Final Output:\", final_output)\n"
   ]
  },
  {
   "cell_type": "code",
   "execution_count": null,
   "metadata": {},
   "outputs": [],
   "source": []
  }
 ],
 "metadata": {
  "kernelspec": {
   "display_name": "Python 3",
   "language": "python",
   "name": "python3"
  },
  "language_info": {
   "codemirror_mode": {
    "name": "ipython",
    "version": 3
   },
   "file_extension": ".py",
   "mimetype": "text/x-python",
   "name": "python",
   "nbconvert_exporter": "python",
   "pygments_lexer": "ipython3",
   "version": "3.12.4"
  }
 },
 "nbformat": 4,
 "nbformat_minor": 2
}
